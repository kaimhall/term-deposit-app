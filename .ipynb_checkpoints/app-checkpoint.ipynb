{
 "cells": [
  {
   "cell_type": "code",
   "execution_count": null,
   "id": "b07f3fa8-9c3d-4876-9807-426692261015",
   "metadata": {},
   "outputs": [],
   "source": [
    "\n",
    "import ipywidgets as widgets\n",
    "import matplotlib.pyplot as plt\n",
    "import numpy as np\n",
    "import pandas as pd\n",
    "import seaborn as sns\n",
    "from flask import Flask, render_template, request\n",
    "from IPython.display import display\n",
    "from joblib import dump, load\n",
    "from sklearn import metrics\n",
    "from sklearn.model_selection import train_test_split\n",
    "from sklearn.preprocessing import LabelEncoder\n",
    "from sklearn.svm import SVC"
   ]
  },
  {
   "cell_type": "code",
   "execution_count": 12,
   "id": "dcbc195b-90cd-4ba9-a4ff-0d86f5e21836",
   "metadata": {},
   "outputs": [],
   "source": [
    "def load_data():\n",
    "    df = pd.read_csv(\"bank-full.csv\", skiprows=0, delimiter=\";\")\n",
    "    df = df[[\"job\", \"marital\", \"default\", \"housing\", \"poutcome\", \"y\"]]\n",
    "\n",
    "    le = LabelEncoder()\n",
    "    label = le.fit_transform(df[\"y\"])\n",
    "    df.drop(\"y\", axis=1, inplace=True)\n",
    "    df[\"y\"] = label\n",
    "    return df"
   ]
  },
  {
   "cell_type": "code",
   "execution_count": 36,
   "id": "0eef56ec-7831-4080-82ba-11a8fc5a1ddf",
   "metadata": {},
   "outputs": [],
   "source": [
    "def split_data():\n",
    "    # get dummies variables\n",
    "    df_train = pd.get_dummies(\n",
    "        df, columns=[\"job\", \"marital\", \"default\", \"housing\", \"poutcome\"]\n",
    "    )\n",
    "\n",
    "    X = df_train.iloc[:, 1:]\n",
    "    y = df_train.iloc[:, 0]\n",
    "\n",
    "    X_train, X_test, y_train, y_test = train_test_split(\n",
    "        X, y, test_size=0.20, random_state=42\n",
    "    )\n",
    "\n",
    "    return [X_train, y_train]"
   ]
  },
  {
   "cell_type": "code",
   "execution_count": 38,
   "id": "f47b1f54-30ea-4c72-9170-ee7c288a6aa4",
   "metadata": {},
   "outputs": [],
   "source": [
    "# flask app\n",
    "app = Flask(__name__)\n",
    "\n",
    "df = load_data()\n",
    "X, y = split_data()\n",
    "model = load(\"linear_svm.joblib\")\n",
    "\n",
    "#score = model.score(X, y)"
   ]
  },
  {
   "cell_type": "code",
   "execution_count": 41,
   "id": "3522525d-e76c-4564-984c-dda690e3b6a9",
   "metadata": {},
   "outputs": [],
   "source": [
    "jobs = sorted(list(df['job'].unique()))\n",
    "marital = sorted(list(df['marital'].unique()))\n",
    "default = sorted(list(df['default'].unique()))\n",
    "housing = sorted(list(df['housing'].unique()))\n",
    "poutcome = sorted(list(df['poutcome'].unique()))"
   ]
  },
  {
   "cell_type": "code",
   "execution_count": 42,
   "id": "c7ae9be2-58f0-45ea-9ca3-95ad78be2c04",
   "metadata": {},
   "outputs": [
    {
     "data": {
      "text/plain": [
       "['divorced', 'married', 'single']"
      ]
     },
     "execution_count": 42,
     "metadata": {},
     "output_type": "execute_result"
    }
   ],
   "source": []
  }
 ],
 "metadata": {
  "kernelspec": {
   "display_name": "datascience",
   "language": "python",
   "name": "datascience"
  },
  "language_info": {
   "codemirror_mode": {
    "name": "ipython",
    "version": 3
   },
   "file_extension": ".py",
   "mimetype": "text/x-python",
   "name": "python",
   "nbconvert_exporter": "python",
   "pygments_lexer": "ipython3",
   "version": "3.10.8"
  }
 },
 "nbformat": 4,
 "nbformat_minor": 5
}
