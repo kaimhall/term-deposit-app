{
 "cells": [
  {
   "cell_type": "code",
   "execution_count": 20,
   "id": "ba1c2f98-8665-4376-bd97-474c793dc100",
   "metadata": {},
   "outputs": [],
   "source": [
    "# modelling imports\n",
    "import pandas as pd\n",
    "import numpy as np\n",
    "from sklearn.preprocessing import LabelEncoder\n",
    "import seaborn as sns\n",
    "import matplotlib.pyplot as plt\n",
    "from sklearn.model_selection import train_test_split\n",
    "from sklearn.svm import SVC\n",
    "from sklearn import metrics\n",
    "from joblib import dump, load\n",
    "\n",
    "# Voila app imports\n",
    "from IPython.display import display, HTML\n",
    "import ipywidgets as widgets\n",
    "from ipywidgets import GridBox, Layout"
   ]
  },
  {
   "cell_type": "markdown",
   "id": "71ed0646-fa0b-463a-94b4-dcfc22f9c5e5",
   "metadata": {
    "tags": []
   },
   "source": [
    "## Dataset"
   ]
  },
  {
   "cell_type": "markdown",
   "id": "cfdfe845-7c9e-4523-9c7b-457eb6a29808",
   "metadata": {},
   "source": [
    "y: has the client subscribed a term deposit? (binary: 'yes','no')<br>\n",
    "poutcome: outcome of the previous marketing campaign (categorical: 'failure','nonexistent','success','unknown')<br>\n",
    "default: has credit in default? (categorical: 'no','yes',)<br>\n",
    "housing: has housing loan? (categorical: 'no','yes')<br>\n",
    "marital: self-explanatory<br>\n",
    "job: self-explanatory"
   ]
  },
  {
   "cell_type": "code",
   "execution_count": 72,
   "id": "d36e07df-30ae-4af8-8c38-4fd0ae315b35",
   "metadata": {
    "tags": []
   },
   "outputs": [],
   "source": [
    "df = pd.read_csv(\"bank-full.csv\", skiprows=0, delimiter=\";\")\n",
    "df = df[[\"job\", \"marital\", \"default\", \"housing\", \"poutcome\", \"y\"]]"
   ]
  },
  {
   "cell_type": "code",
   "execution_count": 73,
   "id": "cd5a214e-f523-44da-9d8d-64f2bd09448a",
   "metadata": {},
   "outputs": [],
   "source": [
    "le = LabelEncoder()\n",
    "label = le.fit_transform(df[\"y\"])\n",
    "df.drop(\"y\", axis=1, inplace=True)\n",
    "df[\"y\"] = label"
   ]
  },
  {
   "cell_type": "code",
   "execution_count": 74,
   "id": "d23f0e97-1cef-4136-9f90-a0ef97ef3dc9",
   "metadata": {
    "tags": []
   },
   "outputs": [
    {
     "data": {
      "text/plain": [
       "array(['no', 'yes'], dtype=object)"
      ]
     },
     "execution_count": 74,
     "metadata": {},
     "output_type": "execute_result"
    }
   ],
   "source": [
    "df[\"default\"].unique()"
   ]
  },
  {
   "cell_type": "markdown",
   "id": "159946b2-6c9d-4de6-8aa4-123a2d519446",
   "metadata": {
    "jp-MarkdownHeadingCollapsed": true,
    "tags": []
   },
   "source": [
    "## Sorting widgets"
   ]
  },
  {
   "cell_type": "code",
   "execution_count": 5,
   "id": "77abbda0-8053-4eaf-b919-0e8b583320b8",
   "metadata": {},
   "outputs": [],
   "source": [
    "ALL = \"ALL\"\n",
    "\n",
    "\n",
    "def unique_values_ALL(array):\n",
    "    unique = array.unique().tolist()\n",
    "    unique.sort()\n",
    "    unique.insert(0, ALL)  # insert ALL option\n",
    "    return unique"
   ]
  },
  {
   "cell_type": "code",
   "execution_count": 6,
   "id": "7873e956-5962-48b3-9313-59862852a62f",
   "metadata": {
    "tags": []
   },
   "outputs": [],
   "source": [
    "# widgets\n",
    "\n",
    "output = widgets.Output()\n",
    "\n",
    "plot_output = widgets.Output()\n",
    "\n",
    "job_dropdown = widgets.Dropdown(\n",
    "    options=unique_values_ALL(df[\"job\"]), value=\"ALL\", description=\"client job\"\n",
    ")\n",
    "outcome_dropdown = widgets.Dropdown(\n",
    "    options=unique_values_ALL(df[\"poutcome\"]),\n",
    "    value=\"ALL\",\n",
    "    description=\"outcomes\",\n",
    ")\n",
    "\n",
    "# ------------event handlers-----------------------\n",
    "\n",
    "\n",
    "def job_dropdown_handler(change):\n",
    "    shared_filter(change.new, outcome_dropdown.value)\n",
    "\n",
    "\n",
    "def outcome_dropdown_handler(change):\n",
    "    shared_filter(job_dropdown.value, change.new)\n",
    "\n",
    "\n",
    "# -----------filter--------------------------------\n",
    "\n",
    "\n",
    "def shared_filter(job, outcome):\n",
    "    output.clear_output(wait=True)\n",
    "    plot_output.clear_output()\n",
    "\n",
    "    if (job == \"ALL\") and (outcome == \"ALL\"):\n",
    "        filter = df\n",
    "\n",
    "    elif job == \"ALL\":\n",
    "        filter = df[df.poutcome == outcome]\n",
    "\n",
    "    elif outcome == \"ALL\":\n",
    "        filter = df[df.job == job]\n",
    "\n",
    "    else:\n",
    "        filter = df[(df.job == job) & (df.poutcome == outcome)]\n",
    "\n",
    "    with output:\n",
    "        display(filter)\n",
    "\n",
    "    with plot_output:\n",
    "        sns.kdeplot(filter[\"y\"].astype(float), shade=True)\n",
    "        plt.show()\n",
    "\n",
    "\n",
    "# --------------------------------------------------\n",
    "\n",
    "# binding\n",
    "job_dropdown.observe(job_dropdown_handler, names=\"value\")\n",
    "outcome_dropdown.observe(outcome_dropdown_handler, names=\"value\")"
   ]
  },
  {
   "cell_type": "markdown",
   "id": "c7c67d5a-b3bb-4e52-b4ee-e9ab6e3fb619",
   "metadata": {
    "tags": []
   },
   "source": [
    "## Dashboard"
   ]
  },
  {
   "cell_type": "code",
   "execution_count": 7,
   "id": "11bd3972-ecde-43a2-af37-eab15113d349",
   "metadata": {},
   "outputs": [],
   "source": [
    "item_layout = widgets.Layout(margin=\"0 0 25px 0\", width=\"500px\")"
   ]
  },
  {
   "cell_type": "code",
   "execution_count": 8,
   "id": "a8c20b7d-00ba-4119-a230-cda29a5e0b5c",
   "metadata": {},
   "outputs": [
    {
     "data": {
      "application/vnd.jupyter.widget-view+json": {
       "model_id": "acfe53a2c29f4df7b9d98d76f38bd133",
       "version_major": 2,
       "version_minor": 0
      },
      "text/plain": [
       "VBox(children=(HBox(children=(Dropdown(description='client job', options=('ALL', 'admin.', 'blue-collar', 'ent…"
      ]
     },
     "metadata": {},
     "output_type": "display_data"
    }
   ],
   "source": [
    "input_widgets = widgets.HBox(\n",
    "    [job_dropdown, outcome_dropdown], layout=item_layout\n",
    ")\n",
    "\n",
    "tab = widgets.Tab([output, plot_output], layout=item_layout)\n",
    "tab.set_title(0, \"Dataset Exploration\")\n",
    "tab.set_title(1, \"KDE Plot\")\n",
    "\n",
    "dashboard = widgets.VBox([input_widgets, tab])\n",
    "display(dashboard)"
   ]
  },
  {
   "cell_type": "markdown",
   "id": "e4e27476-4318-4647-8f72-f90727dfc261",
   "metadata": {},
   "source": [
    "## Model"
   ]
  },
  {
   "cell_type": "code",
   "execution_count": 75,
   "id": "01eb2e46-1017-4a23-ac5d-924bc93223ab",
   "metadata": {},
   "outputs": [],
   "source": [
    "def process(df):\n",
    "    d = {}\n",
    "    for i, key in enumerate(df[\"job\"].unique()):\n",
    "        d[key] = i + 1\n",
    "\n",
    "    numeric_var = {\n",
    "        \"poutcome\": {\"success\": 4, \"failure\": 3, \"other\": 2, \"unknown\": 1},\n",
    "        \"job\": d,\n",
    "    }\n",
    "    df = df.replace(numeric_var)\n",
    "    housing = le.fit_transform(df[\"housing\"])\n",
    "    marital = le.fit_transform(df[\"marital\"])\n",
    "    default = le.fit_transform(df[\"default\"])\n",
    "\n",
    "    df.drop([\"housing\", \"marital\", \"default\"], axis=1, inplace=True)\n",
    "    df = df.assign(housing=housing, marital=marital, default=default)\n",
    "\n",
    "    return df"
   ]
  },
  {
   "cell_type": "code",
   "execution_count": 79,
   "id": "cd60588c-6e09-4eb5-b4dd-784f2d810179",
   "metadata": {},
   "outputs": [],
   "source": [
    "data = process(df)\n",
    "X = data.drop(\"y\", axis=1)\n",
    "y = data[\"y\"]"
   ]
  },
  {
   "cell_type": "code",
   "execution_count": 83,
   "id": "97a82bc1-7bf1-42ca-afad-6617fb39ef88",
   "metadata": {},
   "outputs": [
    {
     "name": "stdout",
     "output_type": "stream",
     "text": [
      "(45211, 5) (45211,)\n"
     ]
    }
   ],
   "source": [
    "print(X.shape, y.shape)"
   ]
  },
  {
   "cell_type": "code",
   "execution_count": 84,
   "id": "a465b975-0f22-45f1-887e-756ecb76f689",
   "metadata": {},
   "outputs": [],
   "source": [
    "# split the data\n",
    "X_train, X_test, y_train, y_test = train_test_split(\n",
    "    X, y, test_size=0.20, random_state=42\n",
    ")"
   ]
  },
  {
   "cell_type": "code",
   "execution_count": 88,
   "id": "5db1a470-ea51-492c-bf6e-20aff417589d",
   "metadata": {
    "tags": []
   },
   "outputs": [
    {
     "name": "stdout",
     "output_type": "stream",
     "text": [
      "0.8793541966161672\n"
     ]
    }
   ],
   "source": [
    "svc = SVC(kernel=\"linear\")\n",
    "svc.fit(X_train, y_train)\n",
    "y_pred = svc.predict(X_test)\n",
    "print(metrics.accuracy_score(y_test, y_pred))"
   ]
  },
  {
   "cell_type": "code",
   "execution_count": 89,
   "id": "b73310fc-cd24-46e2-84b4-3ad3fc4f4fe2",
   "metadata": {},
   "outputs": [
    {
     "data": {
      "text/plain": [
       "['linear_svm.joblib']"
      ]
     },
     "execution_count": 89,
     "metadata": {},
     "output_type": "execute_result"
    }
   ],
   "source": [
    "dump(svc, \"linear_svm.joblib\")"
   ]
  },
  {
   "cell_type": "markdown",
   "id": "dc8d092a-f215-4846-a2c5-e8e8b651680d",
   "metadata": {
    "jp-MarkdownHeadingCollapsed": true,
    "tags": []
   },
   "source": [
    "## Plotter function"
   ]
  },
  {
   "cell_type": "code",
   "execution_count": 26,
   "id": "90cbc849-cb68-4efd-bb5c-94cf1dd55eb5",
   "metadata": {},
   "outputs": [],
   "source": [
    "def plotly_hist(df, jobtype, poutcome, prediction=1):\n",
    "\n",
    "    plot1 = df[df.job][\"y\"].astype(int)\n",
    "    plot2 = df[(df.poutcome == poutcome) & (df.job == jobtype)][\"y\"].astype(\n",
    "        int\n",
    "    )\n",
    "\n",
    "    fig = go.Figure()\n",
    "\n",
    "    fig.add_trace(\n",
    "        go.Histogram(\n",
    "            x=plot_series1,\n",
    "            name=\"All Fields\",\n",
    "            histnorm=\"percent\",\n",
    "            xbins=dict(size=1000),\n",
    "        )\n",
    "    )\n",
    "    fig.add_trace(\n",
    "        go.Histogram(\n",
    "            x=plot_series2,\n",
    "            name=majorfield,\n",
    "            histnorm=\"percent\",\n",
    "            xbins=dict(size=1000),\n",
    "        )\n",
    "    )\n",
    "    fig.add_vline(\n",
    "        x=prediction,\n",
    "        line_dash=\"dash\",\n",
    "        annotation_text=f\"Predicted: ${round(prediction, 2):,}\",\n",
    "    )\n",
    "\n",
    "    fig.update_traces(opacity=0.55)\n",
    "    return fig"
   ]
  },
  {
   "cell_type": "markdown",
   "id": "276e94b9-26d0-4bc8-a894-8c1010ddb81d",
   "metadata": {
    "tags": []
   },
   "source": [
    "## user input widgets"
   ]
  },
  {
   "cell_type": "code",
   "execution_count": 24,
   "id": "7b67c554-f072-4fa0-b57d-fd5f90d2ac54",
   "metadata": {},
   "outputs": [],
   "source": [
    "jobs = sorted(list(df[\"job\"].unique()))\n",
    "marital = sorted(list(df[\"marital\"].unique()))\n",
    "default = sorted(list(df[\"default\"].unique()))\n",
    "housing = sorted(list(df[\"housing\"].unique()))\n",
    "poutcome = sorted(list(df[\"poutcome\"].unique()))"
   ]
  },
  {
   "cell_type": "code",
   "execution_count": 36,
   "id": "b767f30c-7c27-4107-8b13-73605740ca70",
   "metadata": {},
   "outputs": [],
   "source": [
    "job_widget = widgets.Dropdown(\n",
    "    options=jobs,\n",
    "    value=\"admin.\",\n",
    "    description=\"job:\",\n",
    "    style={\"description_width\": \"initial\"},\n",
    "    layout=widgets.Layout(width=\"80%\"),\n",
    ")\n",
    "marital_widget = widgets.Dropdown(\n",
    "    options=marital,\n",
    "    value=\"married\",\n",
    "    description=\"marital status:\",\n",
    "    style={\"description_width\": \"initial\"},\n",
    "    layout=widgets.Layout(width=\"80%\"),\n",
    ")\n",
    "default_widget = widgets.Dropdown(\n",
    "    options=default,\n",
    "    value=\"no\",\n",
    "    description=\"defaults:\",\n",
    "    style={\"description_width\": \"initial\"},\n",
    "    layout=widgets.Layout(width=\"80%\"),\n",
    ")\n",
    "housing_widget = widgets.Dropdown(\n",
    "    options=housing,\n",
    "    value=\"yes\",\n",
    "    description=\"housing loan:\",\n",
    "    style={\"description_width\": \"initial\"},\n",
    "    layout=widgets.Layout(width=\"80%\"),\n",
    ")\n",
    "poutcome_widget = widgets.Dropdown(\n",
    "    options=poutcome,\n",
    "    value=\"unknown\",\n",
    "    description=\"marital status:\",\n",
    "    style={\"description_width\": \"initial\"},\n",
    "    layout=widgets.Layout(width=\"80%\"),\n",
    ")"
   ]
  },
  {
   "cell_type": "markdown",
   "id": "207bf25f-9bad-4b62-b8a5-964c5b9c1e82",
   "metadata": {},
   "source": [
    "## predictions"
   ]
  },
  {
   "cell_type": "code",
   "execution_count": 49,
   "id": "2c32514d-09ec-420e-b9d9-9b4750ca464f",
   "metadata": {},
   "outputs": [],
   "source": [
    "def results(job, marital, default, housing, poutcome):\n",
    "    df_new = pd.DataFrame(\n",
    "        [[job, marital, default, housing, poutcome]],\n",
    "        columns=[\"job\", \"marital\", \"default\", \"housing\", \"poutcome\"],\n",
    "    )\n",
    "    df_new_train = pd.get_dummies(\n",
    "        df_new, columns=[\"job\", \"marital\", \"default\", \"housing\", \"poutcome\"]\n",
    "    )\n",
    "    [[prediction]] = svc.predict(df_new_train)\n",
    "    pred = prediction if prediction > 0 else np.nan\n",
    "    return pred"
   ]
  },
  {
   "cell_type": "code",
   "execution_count": 59,
   "id": "8eb1e47f-19b2-4699-a28a-a8b9c4f8f4a2",
   "metadata": {},
   "outputs": [
    {
     "ename": "ValueError",
     "evalue": "The feature names should match those that were passed during fit.\nFeature names seen at fit time, yet now missing:\n- default_yes\n- housing_no\n- job_admin.\n- job_blue-collar\n- job_entrepreneur\n- ...\n",
     "output_type": "error",
     "traceback": [
      "\u001b[1;31m---------------------------------------------------------------------------\u001b[0m",
      "\u001b[1;31mValueError\u001b[0m                                Traceback (most recent call last)",
      "Input \u001b[1;32mIn [59]\u001b[0m, in \u001b[0;36m<cell line: 1>\u001b[1;34m()\u001b[0m\n\u001b[1;32m----> 1\u001b[0m \u001b[43mresults\u001b[49m\u001b[43m(\u001b[49m\u001b[38;5;124;43m\"\u001b[39;49m\u001b[38;5;124;43mtechnician\u001b[39;49m\u001b[38;5;124;43m\"\u001b[39;49m\u001b[43m,\u001b[49m\u001b[43m \u001b[49m\u001b[38;5;124;43m\"\u001b[39;49m\u001b[38;5;124;43msingle\u001b[39;49m\u001b[38;5;124;43m\"\u001b[39;49m\u001b[43m,\u001b[49m\u001b[43m \u001b[49m\u001b[38;5;124;43m\"\u001b[39;49m\u001b[38;5;124;43mno\u001b[39;49m\u001b[38;5;124;43m\"\u001b[39;49m\u001b[43m,\u001b[49m\u001b[43m \u001b[49m\u001b[38;5;124;43m\"\u001b[39;49m\u001b[38;5;124;43myes\u001b[39;49m\u001b[38;5;124;43m\"\u001b[39;49m\u001b[43m,\u001b[49m\u001b[43m \u001b[49m\u001b[38;5;124;43m\"\u001b[39;49m\u001b[38;5;124;43msuccess\u001b[39;49m\u001b[38;5;124;43m\"\u001b[39;49m\u001b[43m)\u001b[49m\n",
      "Input \u001b[1;32mIn [49]\u001b[0m, in \u001b[0;36mresults\u001b[1;34m(job, marital, default, housing, poutcome)\u001b[0m\n\u001b[0;32m      2\u001b[0m df_new \u001b[38;5;241m=\u001b[39m pd\u001b[38;5;241m.\u001b[39mDataFrame(\n\u001b[0;32m      3\u001b[0m     [[job, marital, default, housing, poutcome]],\n\u001b[0;32m      4\u001b[0m     columns\u001b[38;5;241m=\u001b[39m[\u001b[38;5;124m\"\u001b[39m\u001b[38;5;124mjob\u001b[39m\u001b[38;5;124m\"\u001b[39m, \u001b[38;5;124m\"\u001b[39m\u001b[38;5;124mmarital\u001b[39m\u001b[38;5;124m\"\u001b[39m, \u001b[38;5;124m\"\u001b[39m\u001b[38;5;124mdefault\u001b[39m\u001b[38;5;124m\"\u001b[39m, \u001b[38;5;124m\"\u001b[39m\u001b[38;5;124mhousing\u001b[39m\u001b[38;5;124m\"\u001b[39m, \u001b[38;5;124m\"\u001b[39m\u001b[38;5;124mpoutcome\u001b[39m\u001b[38;5;124m\"\u001b[39m],\n\u001b[0;32m      5\u001b[0m )\n\u001b[0;32m      6\u001b[0m df_new_train \u001b[38;5;241m=\u001b[39m pd\u001b[38;5;241m.\u001b[39mget_dummies(\n\u001b[0;32m      7\u001b[0m     df_new, columns\u001b[38;5;241m=\u001b[39m[\u001b[38;5;124m\"\u001b[39m\u001b[38;5;124mjob\u001b[39m\u001b[38;5;124m\"\u001b[39m, \u001b[38;5;124m\"\u001b[39m\u001b[38;5;124mmarital\u001b[39m\u001b[38;5;124m\"\u001b[39m, \u001b[38;5;124m\"\u001b[39m\u001b[38;5;124mdefault\u001b[39m\u001b[38;5;124m\"\u001b[39m, \u001b[38;5;124m\"\u001b[39m\u001b[38;5;124mhousing\u001b[39m\u001b[38;5;124m\"\u001b[39m, \u001b[38;5;124m\"\u001b[39m\u001b[38;5;124mpoutcome\u001b[39m\u001b[38;5;124m\"\u001b[39m]\n\u001b[0;32m      8\u001b[0m )\n\u001b[1;32m----> 9\u001b[0m [[prediction]] \u001b[38;5;241m=\u001b[39m \u001b[43msvc\u001b[49m\u001b[38;5;241;43m.\u001b[39;49m\u001b[43mpredict\u001b[49m\u001b[43m(\u001b[49m\u001b[43mdf_new_train\u001b[49m\u001b[43m)\u001b[49m\n\u001b[0;32m     10\u001b[0m pred \u001b[38;5;241m=\u001b[39m prediction \u001b[38;5;28;01mif\u001b[39;00m prediction \u001b[38;5;241m>\u001b[39m \u001b[38;5;241m0\u001b[39m \u001b[38;5;28;01melse\u001b[39;00m np\u001b[38;5;241m.\u001b[39mnan\n\u001b[0;32m     11\u001b[0m \u001b[38;5;28;01mreturn\u001b[39;00m pred\n",
      "File \u001b[1;32mC:\\ProgramData\\Miniconda3\\envs\\datascience\\lib\\site-packages\\sklearn\\svm\\_base.py:820\u001b[0m, in \u001b[0;36mBaseSVC.predict\u001b[1;34m(self, X)\u001b[0m\n\u001b[0;32m    818\u001b[0m     y \u001b[38;5;241m=\u001b[39m np\u001b[38;5;241m.\u001b[39margmax(\u001b[38;5;28mself\u001b[39m\u001b[38;5;241m.\u001b[39mdecision_function(X), axis\u001b[38;5;241m=\u001b[39m\u001b[38;5;241m1\u001b[39m)\n\u001b[0;32m    819\u001b[0m \u001b[38;5;28;01melse\u001b[39;00m:\n\u001b[1;32m--> 820\u001b[0m     y \u001b[38;5;241m=\u001b[39m \u001b[38;5;28;43msuper\u001b[39;49m\u001b[43m(\u001b[49m\u001b[43m)\u001b[49m\u001b[38;5;241;43m.\u001b[39;49m\u001b[43mpredict\u001b[49m\u001b[43m(\u001b[49m\u001b[43mX\u001b[49m\u001b[43m)\u001b[49m\n\u001b[0;32m    821\u001b[0m \u001b[38;5;28;01mreturn\u001b[39;00m \u001b[38;5;28mself\u001b[39m\u001b[38;5;241m.\u001b[39mclasses_\u001b[38;5;241m.\u001b[39mtake(np\u001b[38;5;241m.\u001b[39masarray(y, dtype\u001b[38;5;241m=\u001b[39mnp\u001b[38;5;241m.\u001b[39mintp))\n",
      "File \u001b[1;32mC:\\ProgramData\\Miniconda3\\envs\\datascience\\lib\\site-packages\\sklearn\\svm\\_base.py:433\u001b[0m, in \u001b[0;36mBaseLibSVM.predict\u001b[1;34m(self, X)\u001b[0m\n\u001b[0;32m    417\u001b[0m \u001b[38;5;28;01mdef\u001b[39;00m \u001b[38;5;21mpredict\u001b[39m(\u001b[38;5;28mself\u001b[39m, X):\n\u001b[0;32m    418\u001b[0m     \u001b[38;5;124;03m\"\"\"Perform regression on samples in X.\u001b[39;00m\n\u001b[0;32m    419\u001b[0m \n\u001b[0;32m    420\u001b[0m \u001b[38;5;124;03m    For an one-class model, +1 (inlier) or -1 (outlier) is returned.\u001b[39;00m\n\u001b[1;32m   (...)\u001b[0m\n\u001b[0;32m    431\u001b[0m \u001b[38;5;124;03m        The predicted values.\u001b[39;00m\n\u001b[0;32m    432\u001b[0m \u001b[38;5;124;03m    \"\"\"\u001b[39;00m\n\u001b[1;32m--> 433\u001b[0m     X \u001b[38;5;241m=\u001b[39m \u001b[38;5;28;43mself\u001b[39;49m\u001b[38;5;241;43m.\u001b[39;49m\u001b[43m_validate_for_predict\u001b[49m\u001b[43m(\u001b[49m\u001b[43mX\u001b[49m\u001b[43m)\u001b[49m\n\u001b[0;32m    434\u001b[0m     predict \u001b[38;5;241m=\u001b[39m \u001b[38;5;28mself\u001b[39m\u001b[38;5;241m.\u001b[39m_sparse_predict \u001b[38;5;28;01mif\u001b[39;00m \u001b[38;5;28mself\u001b[39m\u001b[38;5;241m.\u001b[39m_sparse \u001b[38;5;28;01melse\u001b[39;00m \u001b[38;5;28mself\u001b[39m\u001b[38;5;241m.\u001b[39m_dense_predict\n\u001b[0;32m    435\u001b[0m     \u001b[38;5;28;01mreturn\u001b[39;00m predict(X)\n",
      "File \u001b[1;32mC:\\ProgramData\\Miniconda3\\envs\\datascience\\lib\\site-packages\\sklearn\\svm\\_base.py:613\u001b[0m, in \u001b[0;36mBaseLibSVM._validate_for_predict\u001b[1;34m(self, X)\u001b[0m\n\u001b[0;32m    610\u001b[0m check_is_fitted(\u001b[38;5;28mself\u001b[39m)\n\u001b[0;32m    612\u001b[0m \u001b[38;5;28;01mif\u001b[39;00m \u001b[38;5;129;01mnot\u001b[39;00m callable(\u001b[38;5;28mself\u001b[39m\u001b[38;5;241m.\u001b[39mkernel):\n\u001b[1;32m--> 613\u001b[0m     X \u001b[38;5;241m=\u001b[39m \u001b[38;5;28;43mself\u001b[39;49m\u001b[38;5;241;43m.\u001b[39;49m\u001b[43m_validate_data\u001b[49m\u001b[43m(\u001b[49m\n\u001b[0;32m    614\u001b[0m \u001b[43m        \u001b[49m\u001b[43mX\u001b[49m\u001b[43m,\u001b[49m\n\u001b[0;32m    615\u001b[0m \u001b[43m        \u001b[49m\u001b[43maccept_sparse\u001b[49m\u001b[38;5;241;43m=\u001b[39;49m\u001b[38;5;124;43m\"\u001b[39;49m\u001b[38;5;124;43mcsr\u001b[39;49m\u001b[38;5;124;43m\"\u001b[39;49m\u001b[43m,\u001b[49m\n\u001b[0;32m    616\u001b[0m \u001b[43m        \u001b[49m\u001b[43mdtype\u001b[49m\u001b[38;5;241;43m=\u001b[39;49m\u001b[43mnp\u001b[49m\u001b[38;5;241;43m.\u001b[39;49m\u001b[43mfloat64\u001b[49m\u001b[43m,\u001b[49m\n\u001b[0;32m    617\u001b[0m \u001b[43m        \u001b[49m\u001b[43morder\u001b[49m\u001b[38;5;241;43m=\u001b[39;49m\u001b[38;5;124;43m\"\u001b[39;49m\u001b[38;5;124;43mC\u001b[39;49m\u001b[38;5;124;43m\"\u001b[39;49m\u001b[43m,\u001b[49m\n\u001b[0;32m    618\u001b[0m \u001b[43m        \u001b[49m\u001b[43maccept_large_sparse\u001b[49m\u001b[38;5;241;43m=\u001b[39;49m\u001b[38;5;28;43;01mFalse\u001b[39;49;00m\u001b[43m,\u001b[49m\n\u001b[0;32m    619\u001b[0m \u001b[43m        \u001b[49m\u001b[43mreset\u001b[49m\u001b[38;5;241;43m=\u001b[39;49m\u001b[38;5;28;43;01mFalse\u001b[39;49;00m\u001b[43m,\u001b[49m\n\u001b[0;32m    620\u001b[0m \u001b[43m    \u001b[49m\u001b[43m)\u001b[49m\n\u001b[0;32m    622\u001b[0m \u001b[38;5;28;01mif\u001b[39;00m \u001b[38;5;28mself\u001b[39m\u001b[38;5;241m.\u001b[39m_sparse \u001b[38;5;129;01mand\u001b[39;00m \u001b[38;5;129;01mnot\u001b[39;00m sp\u001b[38;5;241m.\u001b[39misspmatrix(X):\n\u001b[0;32m    623\u001b[0m     X \u001b[38;5;241m=\u001b[39m sp\u001b[38;5;241m.\u001b[39mcsr_matrix(X)\n",
      "File \u001b[1;32mC:\\ProgramData\\Miniconda3\\envs\\datascience\\lib\\site-packages\\sklearn\\base.py:518\u001b[0m, in \u001b[0;36mBaseEstimator._validate_data\u001b[1;34m(self, X, y, reset, validate_separately, **check_params)\u001b[0m\n\u001b[0;32m    453\u001b[0m \u001b[38;5;28;01mdef\u001b[39;00m \u001b[38;5;21m_validate_data\u001b[39m(\n\u001b[0;32m    454\u001b[0m     \u001b[38;5;28mself\u001b[39m,\n\u001b[0;32m    455\u001b[0m     X\u001b[38;5;241m=\u001b[39m\u001b[38;5;124m\"\u001b[39m\u001b[38;5;124mno_validation\u001b[39m\u001b[38;5;124m\"\u001b[39m,\n\u001b[1;32m   (...)\u001b[0m\n\u001b[0;32m    459\u001b[0m     \u001b[38;5;241m*\u001b[39m\u001b[38;5;241m*\u001b[39mcheck_params,\n\u001b[0;32m    460\u001b[0m ):\n\u001b[0;32m    461\u001b[0m     \u001b[38;5;124;03m\"\"\"Validate input data and set or check the `n_features_in_` attribute.\u001b[39;00m\n\u001b[0;32m    462\u001b[0m \n\u001b[0;32m    463\u001b[0m \u001b[38;5;124;03m    Parameters\u001b[39;00m\n\u001b[1;32m   (...)\u001b[0m\n\u001b[0;32m    516\u001b[0m \u001b[38;5;124;03m        validated.\u001b[39;00m\n\u001b[0;32m    517\u001b[0m \u001b[38;5;124;03m    \"\"\"\u001b[39;00m\n\u001b[1;32m--> 518\u001b[0m     \u001b[38;5;28;43mself\u001b[39;49m\u001b[38;5;241;43m.\u001b[39;49m\u001b[43m_check_feature_names\u001b[49m\u001b[43m(\u001b[49m\u001b[43mX\u001b[49m\u001b[43m,\u001b[49m\u001b[43m \u001b[49m\u001b[43mreset\u001b[49m\u001b[38;5;241;43m=\u001b[39;49m\u001b[43mreset\u001b[49m\u001b[43m)\u001b[49m\n\u001b[0;32m    520\u001b[0m     \u001b[38;5;28;01mif\u001b[39;00m y \u001b[38;5;129;01mis\u001b[39;00m \u001b[38;5;28;01mNone\u001b[39;00m \u001b[38;5;129;01mand\u001b[39;00m \u001b[38;5;28mself\u001b[39m\u001b[38;5;241m.\u001b[39m_get_tags()[\u001b[38;5;124m\"\u001b[39m\u001b[38;5;124mrequires_y\u001b[39m\u001b[38;5;124m\"\u001b[39m]:\n\u001b[0;32m    521\u001b[0m         \u001b[38;5;28;01mraise\u001b[39;00m \u001b[38;5;167;01mValueError\u001b[39;00m(\n\u001b[0;32m    522\u001b[0m             \u001b[38;5;124mf\u001b[39m\u001b[38;5;124m\"\u001b[39m\u001b[38;5;124mThis \u001b[39m\u001b[38;5;132;01m{\u001b[39;00m\u001b[38;5;28mself\u001b[39m\u001b[38;5;241m.\u001b[39m\u001b[38;5;18m__class__\u001b[39m\u001b[38;5;241m.\u001b[39m\u001b[38;5;18m__name__\u001b[39m\u001b[38;5;132;01m}\u001b[39;00m\u001b[38;5;124m estimator \u001b[39m\u001b[38;5;124m\"\u001b[39m\n\u001b[0;32m    523\u001b[0m             \u001b[38;5;124m\"\u001b[39m\u001b[38;5;124mrequires y to be passed, but the target y is None.\u001b[39m\u001b[38;5;124m\"\u001b[39m\n\u001b[0;32m    524\u001b[0m         )\n",
      "File \u001b[1;32mC:\\ProgramData\\Miniconda3\\envs\\datascience\\lib\\site-packages\\sklearn\\base.py:451\u001b[0m, in \u001b[0;36mBaseEstimator._check_feature_names\u001b[1;34m(self, X, reset)\u001b[0m\n\u001b[0;32m    446\u001b[0m \u001b[38;5;28;01mif\u001b[39;00m \u001b[38;5;129;01mnot\u001b[39;00m missing_names \u001b[38;5;129;01mand\u001b[39;00m \u001b[38;5;129;01mnot\u001b[39;00m unexpected_names:\n\u001b[0;32m    447\u001b[0m     message \u001b[38;5;241m+\u001b[39m\u001b[38;5;241m=\u001b[39m (\n\u001b[0;32m    448\u001b[0m         \u001b[38;5;124m\"\u001b[39m\u001b[38;5;124mFeature names must be in the same order as they were in fit.\u001b[39m\u001b[38;5;130;01m\\n\u001b[39;00m\u001b[38;5;124m\"\u001b[39m\n\u001b[0;32m    449\u001b[0m     )\n\u001b[1;32m--> 451\u001b[0m \u001b[38;5;28;01mraise\u001b[39;00m \u001b[38;5;167;01mValueError\u001b[39;00m(message)\n",
      "\u001b[1;31mValueError\u001b[0m: The feature names should match those that were passed during fit.\nFeature names seen at fit time, yet now missing:\n- default_yes\n- housing_no\n- job_admin.\n- job_blue-collar\n- job_entrepreneur\n- ...\n"
     ]
    }
   ],
   "source": [
    "results(\"technician\", \"single\", \"no\", \"yes\", \"success\")"
   ]
  },
  {
   "cell_type": "code",
   "execution_count": 42,
   "id": "58347430-e0cb-4f54-a36a-c542d5cfcd9e",
   "metadata": {},
   "outputs": [],
   "source": [
    "out = widgets.interactive_output(\n",
    "    results,\n",
    "    {\n",
    "        \"job\": job_widget,\n",
    "        \"marital\": marital_widget,\n",
    "        \"default\": default_widget,\n",
    "        \"housing\": housing_widget,\n",
    "        \"poutcome\": poutcome_widget,\n",
    "    },\n",
    ")"
   ]
  },
  {
   "cell_type": "code",
   "execution_count": null,
   "id": "28a51cf4-b60c-4edd-ad1d-e23d4aa559d1",
   "metadata": {},
   "outputs": [],
   "source": []
  },
  {
   "cell_type": "code",
   "execution_count": 58,
   "id": "26098987-834c-42f6-ba1e-a039b8d93077",
   "metadata": {},
   "outputs": [
    {
     "data": {
      "text/plain": [
       "0        unknown\n",
       "1        unknown\n",
       "2        unknown\n",
       "3        unknown\n",
       "4        unknown\n",
       "          ...   \n",
       "45206    unknown\n",
       "45207    unknown\n",
       "45208    success\n",
       "45209    unknown\n",
       "45210      other\n",
       "Name: poutcome, Length: 45211, dtype: object"
      ]
     },
     "execution_count": 58,
     "metadata": {},
     "output_type": "execute_result"
    }
   ],
   "source": [
    "df.poutcome"
   ]
  }
 ],
 "metadata": {
  "kernelspec": {
   "display_name": "datascience",
   "language": "python",
   "name": "datascience"
  },
  "language_info": {
   "codemirror_mode": {
    "name": "ipython",
    "version": 3
   },
   "file_extension": ".py",
   "mimetype": "text/x-python",
   "name": "python",
   "nbconvert_exporter": "python",
   "pygments_lexer": "ipython3",
   "version": "3.10.8"
  }
 },
 "nbformat": 4,
 "nbformat_minor": 5
}
