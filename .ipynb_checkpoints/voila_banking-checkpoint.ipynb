{
 "cells": [
  {
   "cell_type": "markdown",
   "id": "3e0d4020-05a9-4801-9ff0-189e19954a50",
   "metadata": {},
   "source": [
    "### Banking App"
   ]
  },
  {
   "cell_type": "code",
   "execution_count": 480,
   "id": "5425a181-bcf4-475a-945f-a54e412e3dc5",
   "metadata": {},
   "outputs": [],
   "source": [
    "# modelling imports\n",
    "import pandas as pd\n",
    "import numpy as np\n",
    "from sklearn.preprocessing import LabelEncoder\n",
    "import seaborn as sns\n",
    "import matplotlib.pyplot as plt\n",
    "from sklearn.model_selection import train_test_split\n",
    "from sklearn.svm import SVC\n",
    "from sklearn import metrics\n",
    "from joblib import dump, load\n",
    "\n",
    "# Voila app imports\n",
    "from IPython.display import display, HTML\n",
    "import ipywidgets as widgets\n",
    "from ipywidgets import GridBox, Layout"
   ]
  },
  {
   "cell_type": "code",
   "execution_count": 481,
   "id": "8918ddb6-26bb-4ee4-80f4-43d21079f5d4",
   "metadata": {
    "tags": []
   },
   "outputs": [],
   "source": [
    "df = pd.read_csv(\"bank-full.csv\", skiprows=0, delimiter=\";\")\n",
    "df = df[[\"job\", \"marital\", \"default\", \"housing\", \"poutcome\", \"y\"]]"
   ]
  },
  {
   "cell_type": "code",
   "execution_count": 482,
   "id": "4363202b-e809-4355-a0d8-7b02494a1152",
   "metadata": {},
   "outputs": [],
   "source": [
    "le = LabelEncoder()\n",
    "label = le.fit_transform(df[\"y\"])\n",
    "df.drop(\"y\", axis=1, inplace=True)\n",
    "df[\"y\"] = label"
   ]
  },
  {
   "cell_type": "code",
   "execution_count": 483,
   "id": "0842d621-2dc6-4ad9-9055-cc9c17b3279e",
   "metadata": {},
   "outputs": [],
   "source": [
    "ALL = \"ALL\"\n",
    "\n",
    "\n",
    "def unique_values_ALL(array):\n",
    "    unique = array.unique().tolist()\n",
    "    unique.sort()\n",
    "    unique.insert(0, ALL)  # insert ALL option\n",
    "    return unique"
   ]
  },
  {
   "cell_type": "code",
   "execution_count": 484,
   "id": "bcdec017-3bf1-4c15-a559-631671b388d3",
   "metadata": {
    "tags": []
   },
   "outputs": [],
   "source": [
    "# widgets\n",
    "\n",
    "output = widgets.Output()\n",
    "\n",
    "plot_output = widgets.Output()\n",
    "\n",
    "job_dropdown = widgets.Dropdown(\n",
    "    options=unique_values_ALL(df[\"job\"]), value=\"ALL\", description=\"client job\"\n",
    ")\n",
    "outcome_dropdown = widgets.Dropdown(\n",
    "    options=unique_values_ALL(df[\"poutcome\"]),\n",
    "    value=\"ALL\",\n",
    "    description=\"outcomes\",\n",
    ")\n",
    "\n",
    "# ------------event handlers-----------------------\n",
    "\n",
    "\n",
    "def job_dropdown_handler(change):\n",
    "    shared_filter(change.new, outcome_dropdown.value)\n",
    "\n",
    "\n",
    "def outcome_dropdown_handler(change):\n",
    "    shared_filter(job_dropdown.value, change.new)\n",
    "\n",
    "\n",
    "# -----------filter--------------------------------\n",
    "\n",
    "\n",
    "def shared_filter(job, outcome):\n",
    "    output.clear_output(wait=True)\n",
    "    plot_output.clear_output()\n",
    "\n",
    "    if (job == \"ALL\") and (outcome == \"ALL\"):\n",
    "        filter = df\n",
    "\n",
    "    elif job == \"ALL\":\n",
    "        filter = df[df.poutcome == outcome]\n",
    "\n",
    "    elif outcome == \"ALL\":\n",
    "        filter = df[df.job == job]\n",
    "\n",
    "    else:\n",
    "        filter = df[(df.job == job) & (df.poutcome == outcome)]\n",
    "\n",
    "    with output:\n",
    "        display(filter)\n",
    "\n",
    "    with plot_output:\n",
    "        sns.kdeplot(filter[\"y\"].astype(float), shade=True)\n",
    "        plt.show()\n",
    "\n",
    "\n",
    "# --------------------------------------------------\n",
    "\n",
    "# binding\n",
    "job_dropdown.observe(job_dropdown_handler, names=\"value\")\n",
    "outcome_dropdown.observe(outcome_dropdown_handler, names=\"value\")"
   ]
  },
  {
   "cell_type": "code",
   "execution_count": 485,
   "id": "0e355153-ba89-4542-986d-efb2a53eb8ce",
   "metadata": {},
   "outputs": [],
   "source": [
    "item_layout = widgets.Layout(margin=\"0 0 25px 0\", width=\"500px\")"
   ]
  },
  {
   "cell_type": "code",
   "execution_count": 486,
   "id": "b99b88c1-980a-4b7a-9530-862fe5251664",
   "metadata": {},
   "outputs": [],
   "source": [
    "input_widgets = widgets.HBox(\n",
    "    [job_dropdown, outcome_dropdown], layout=item_layout\n",
    ")\n",
    "\n",
    "tab = widgets.Tab([output, plot_output], layout=item_layout)\n",
    "tab.set_title(0, \"Dataset Exploration\")\n",
    "tab.set_title(1, \"KDE Plot\")\n",
    "\n",
    "dashboard = widgets.VBox([input_widgets, tab])"
   ]
  },
  {
   "cell_type": "code",
   "execution_count": 487,
   "id": "e88b3497-510d-4f52-8846-e256199d1806",
   "metadata": {},
   "outputs": [],
   "source": [
    "jobs = sorted(list(df[\"job\"].unique()))\n",
    "marital = sorted(list(df[\"marital\"].unique()))\n",
    "default = sorted(list(df[\"default\"].unique()))\n",
    "housing = sorted(list(df[\"housing\"].unique()))\n",
    "poutcome = sorted(list(df[\"poutcome\"].unique()))"
   ]
  },
  {
   "cell_type": "code",
   "execution_count": 488,
   "id": "d8067ee4-a666-4ad5-a93b-b0f5e77ec645",
   "metadata": {},
   "outputs": [],
   "source": [
    "# widget_layout = widgets.Layout(margin=\"0 0 25px 0\", width=\"500px\")\n",
    "job_widget = widgets.Dropdown(\n",
    "    options=jobs,\n",
    "    value=\"admin.\",\n",
    "    description=\"job:\",\n",
    "    style={\"description_width\": \"35%\"},\n",
    "    layout=widgets.Layout(width=\"65%\"),\n",
    ")\n",
    "marital_widget = widgets.Dropdown(\n",
    "    options=marital,\n",
    "    value=\"married\",\n",
    "    description=\"marital status:\",\n",
    "    style={\"description_width\": \"35%\"},\n",
    "    layout=widgets.Layout(width=\"65%\"),\n",
    ")\n",
    "default_widget = widgets.Dropdown(\n",
    "    options=default,\n",
    "    value=\"no\",\n",
    "    description=\"defaults:\",\n",
    "    style={\"description_width\": \"35%\"},\n",
    "    layout=widgets.Layout(width=\"65%\"),\n",
    ")\n",
    "housing_widget = widgets.Dropdown(\n",
    "    options=housing,\n",
    "    value=\"yes\",\n",
    "    description=\"housing loan:\",\n",
    "    style={\"description_width\": \"35%\"},\n",
    "    layout=widgets.Layout(width=\"65%\"),\n",
    ")\n",
    "poutcome_widget = widgets.Dropdown(\n",
    "    options=poutcome,\n",
    "    value=\"unknown\",\n",
    "    description=\"poutcome:\",\n",
    "    style={\"description_width\": \"35%\"},\n",
    "    layout=widgets.Layout(width=\"65%\"),\n",
    ")"
   ]
  },
  {
   "cell_type": "code",
   "execution_count": 489,
   "id": "f3eff361-6829-44f6-83aa-75f6f1706984",
   "metadata": {},
   "outputs": [],
   "source": [
    "rbf_svm = load(\"rbf_svm.joblib\")"
   ]
  },
  {
   "cell_type": "code",
   "execution_count": 490,
   "id": "7d0f6110-ca35-4cf4-8d90-9be5bd021549",
   "metadata": {},
   "outputs": [],
   "source": [
    "def process(df):\n",
    "    d = {\n",
    "        \"management\": 1,\n",
    "        \"technician\": 2,\n",
    "        \"entrepreneur\": 3,\n",
    "        \"blue-collar\": 4,\n",
    "        \"unknown\": 5,\n",
    "        \"retired\": 6,\n",
    "        \"admin.\": 7,\n",
    "        \"services\": 8,\n",
    "        \"self-employed\": 9,\n",
    "        \"unemployed\": 10,\n",
    "        \"housemaid\": 11,\n",
    "        \"student\": 12,\n",
    "    }\n",
    "    numeric_var = {\n",
    "        \"poutcome\": {\"success\": 4, \"failure\": 3, \"other\": 2, \"unknown\": 1},\n",
    "        \"job\": d,\n",
    "        \"marital\": {\"married\": 1, \"single\": 2, \"divorced\": 3},\n",
    "    }\n",
    "    df = df.replace(numeric_var)\n",
    "    housing = le.fit_transform(df[\"housing\"])\n",
    "    default = le.fit_transform(df[\"default\"])\n",
    "\n",
    "    df.drop([\"housing\", \"default\"], axis=1, inplace=True)\n",
    "    df[\"housing\"] = housing\n",
    "    df[\"default\"] = default\n",
    "\n",
    "    return df[[\"job\", \"poutcome\", \"housing\", \"marital\", \"default\"]]"
   ]
  },
  {
   "cell_type": "code",
   "execution_count": 491,
   "id": "603c0b3e-e13a-4b81-8c68-35200902d85d",
   "metadata": {},
   "outputs": [],
   "source": [
    "def results(job, poutcome, housing, marital, default):\n",
    "    df_new = pd.DataFrame(\n",
    "        [[job, poutcome, housing, marital, default]],\n",
    "        columns=[\"job\", \"poutcome\", \"housing\", \"marital\", \"default\"],\n",
    "    )\n",
    "\n",
    "    df_new_train = process(df_new)\n",
    "    prediction = rbf_svm.predict(df_new_train)\n",
    "    pred_fnl = (\n",
    "        \"will not make a term deposit\"\n",
    "        if prediction[0] == 0\n",
    "        else \"will make a term deposit\"\n",
    "    )\n",
    "\n",
    "    pred_html = f\"\"\"  \n",
    "       <p>\n",
    "       <br><strong>Model predicts that lead with above characteristics {pred_fnl}</strong><br>\n",
    "       <br><small>\n",
    "       * disclaimer: model is only a toy version for prototyping.<br> \n",
    "       * data is imbalanced and feature selection non-optimal.\n",
    "       </small>\n",
    "       </p>\n",
    "    \"\"\"\n",
    "    display(HTML(pred_html))"
   ]
  },
  {
   "cell_type": "code",
   "execution_count": 492,
   "id": "f5171053-7174-49db-9231-05d721a02cf2",
   "metadata": {},
   "outputs": [],
   "source": [
    "def selection(job, poutcome, housing, marital, default):\n",
    "    selection_html = f\"\"\"\n",
    "    Your selection:<br>\n",
    "    job = {job}<br>\n",
    "    poutcome = {poutcome}<br>\n",
    "    housing = {housing}<br>\n",
    "    marital = {marital}<br>\n",
    "    default = {default}\n",
    "    \"\"\"\n",
    "    display(HTML(selection_html))"
   ]
  },
  {
   "cell_type": "code",
   "execution_count": 493,
   "id": "24dfb734-7495-45e3-be92-029549e55ded",
   "metadata": {},
   "outputs": [],
   "source": [
    "select_out = widgets.interactive_output(\n",
    "    selection,\n",
    "    {\n",
    "        \"job\": job_widget,\n",
    "        \"marital\": marital_widget,\n",
    "        \"default\": default_widget,\n",
    "        \"housing\": housing_widget,\n",
    "        \"poutcome\": poutcome_widget,\n",
    "    },\n",
    ")"
   ]
  },
  {
   "cell_type": "code",
   "execution_count": 494,
   "id": "10cbb8dd-2cfd-4b51-9ec0-e28524fdf4f6",
   "metadata": {},
   "outputs": [],
   "source": [
    "results_out = widgets.interactive_output(\n",
    "    results,\n",
    "    {\n",
    "        \"job\": job_widget,\n",
    "        \"marital\": marital_widget,\n",
    "        \"default\": default_widget,\n",
    "        \"housing\": housing_widget,\n",
    "        \"poutcome\": poutcome_widget,\n",
    "    },\n",
    ")"
   ]
  },
  {
   "cell_type": "code",
   "execution_count": 495,
   "id": "3c72ef95-35e2-4cc8-bec1-1fdd3da070d0",
   "metadata": {},
   "outputs": [],
   "source": [
    "vb = widgets.VBox()\n",
    "vb.children = [\n",
    "    job_widget,\n",
    "    marital_widget,\n",
    "    default_widget,\n",
    "    housing_widget,\n",
    "    poutcome_widget,\n",
    "]"
   ]
  },
  {
   "cell_type": "code",
   "execution_count": 496,
   "id": "328771bf-2560-4749-bb68-9ab3748bc7f5",
   "metadata": {},
   "outputs": [],
   "source": [
    "vb2 = widgets.VBox()\n",
    "vb2.children = [select_out]"
   ]
  },
  {
   "cell_type": "code",
   "execution_count": 497,
   "id": "ac77c220-d6d0-44a1-9184-4a8db18a7079",
   "metadata": {},
   "outputs": [],
   "source": [
    "vb3 = widgets.VBox(layout=Layout(width=\"auto\", grid_area=\"vb3\"))\n",
    "vb3.children = [results_out]"
   ]
  },
  {
   "cell_type": "code",
   "execution_count": 498,
   "id": "55f21af5-5453-4706-aec9-0e5b20027877",
   "metadata": {},
   "outputs": [],
   "source": [
    "gb = widgets.GridBox()\n",
    "gb.children = [vb, vb2, vb3]\n",
    "gb.layout.width = \"65%\"\n",
    "gb.layout.grid_template_rows = \"auto auto\"\n",
    "gb.layout.grid_template_columns = \"auto auto\"\n",
    "gb.layout.grid_template_areas = \"\"\"\n",
    "'dashboard .'\n",
    "'vb vb2'\n",
    "'vb3 vb3'\n",
    "\"\"\""
   ]
  },
  {
   "cell_type": "code",
   "execution_count": 499,
   "id": "60dc9c13-3e7e-42af-abb3-9d589eeacb44",
   "metadata": {},
   "outputs": [],
   "source": [
    "intro_html = f\"\"\"\n",
    "<strong>Predict term deposit</strong>\n",
    "<br>\n",
    "Model uses several characteristics in order to access if banking product would be subscribed:<br>\n",
    "<ul>\n",
    "<li>Job title</li>\n",
    "<li>marital status</li>\n",
    "<li>Does client have credit in default</li>\n",
    "<li>Does client have housing loan</li>\n",
    "<li>Outcome of the previous marketing campaign</li>\n",
    "</ul>\n",
    "Using these features, <strong>Support Vector Machine</strong> predicts if the client subscribes a term deposit.<br>\n",
    "Select job and prior marketing outcome from below to explore data.\n",
    "<br></br>\n",
    "\"\"\"\n",
    "intro = widgets.HTML(intro_html)"
   ]
  },
  {
   "cell_type": "code",
   "execution_count": 500,
   "id": "2641652e-a4be-4996-b539-11991bebbad8",
   "metadata": {},
   "outputs": [],
   "source": [
    "pred_html = f\"\"\"\n",
    "Predict buying with SVM: (rbf kernel)<br>\n",
    "Select your feature values:\n",
    "\"\"\"\n",
    "pred_info = widgets.HTML(pred_html)"
   ]
  },
  {
   "cell_type": "code",
   "execution_count": 501,
   "id": "702bd6c2-f49b-4c9f-bfe8-4850f09cee6f",
   "metadata": {},
   "outputs": [],
   "source": [
    "appcomp = [intro, dashboard, pred_info, gb]\n",
    "app = widgets.VBox(appcomp)"
   ]
  },
  {
   "cell_type": "code",
   "execution_count": 502,
   "id": "0ae46997-5eef-428e-a1a7-3044aad90e3d",
   "metadata": {},
   "outputs": [
    {
     "data": {
      "application/vnd.jupyter.widget-view+json": {
       "model_id": "9b2d67b1e9cd4763bc41b46ea50a8070",
       "version_major": 2,
       "version_minor": 0
      },
      "text/plain": [
       "VBox(children=(HTML(value='\\n<strong>Predict term deposit</strong>\\n<br>\\nModel uses several characteristics i…"
      ]
     },
     "metadata": {},
     "output_type": "display_data"
    }
   ],
   "source": [
    "display(app)"
   ]
  }
 ],
 "metadata": {
  "kernelspec": {
   "display_name": "Python 3 (ipykernel)",
   "language": "python",
   "name": "python3"
  },
  "language_info": {
   "codemirror_mode": {
    "name": "ipython",
    "version": 3
   },
   "file_extension": ".py",
   "mimetype": "text/x-python",
   "name": "python",
   "nbconvert_exporter": "python",
   "pygments_lexer": "ipython3",
   "version": "3.10.8"
  }
 },
 "nbformat": 4,
 "nbformat_minor": 5
}
