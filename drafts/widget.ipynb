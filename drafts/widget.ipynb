{
 "cells": [
  {
   "cell_type": "code",
   "execution_count": 2,
   "id": "ba1c2f98-8665-4376-bd97-474c793dc100",
   "metadata": {},
   "outputs": [],
   "source": [
    "# modelling imports\n",
    "import pandas as pd\n",
    "import numpy as np\n",
    "from sklearn.preprocessing import LabelEncoder\n",
    "import seaborn as sns\n",
    "import matplotlib.pyplot as plt\n",
    "from sklearn.model_selection import train_test_split\n",
    "from sklearn.svm import SVC\n",
    "from sklearn import metrics\n",
    "from joblib import dump, load\n",
    "\n",
    "# Voila app imports\n",
    "from IPython.display import display, HTML\n",
    "import ipywidgets as widgets\n",
    "from ipywidgets import GridBox, Layout"
   ]
  },
  {
   "cell_type": "markdown",
   "id": "71ed0646-fa0b-463a-94b4-dcfc22f9c5e5",
   "metadata": {
    "tags": []
   },
   "source": [
    "## Dataset"
   ]
  },
  {
   "cell_type": "markdown",
   "id": "cfdfe845-7c9e-4523-9c7b-457eb6a29808",
   "metadata": {},
   "source": [
    "y: has the client subscribed a term deposit? (binary: 'yes','no')<br>\n",
    "poutcome: outcome of the previous marketing campaign (categorical: 'failure','nonexistent','success','unknown')<br>\n",
    "default: has credit in default? (categorical: 'no','yes',)<br>\n",
    "housing: has housing loan? (categorical: 'no','yes')<br>\n",
    "marital: self-explanatory<br>\n",
    "job: self-explanatory"
   ]
  },
  {
   "cell_type": "code",
   "execution_count": 3,
   "id": "d36e07df-30ae-4af8-8c38-4fd0ae315b35",
   "metadata": {
    "tags": []
   },
   "outputs": [],
   "source": [
    "df = pd.read_csv(\"bank-full.csv\", skiprows=0, delimiter=\";\")\n",
    "df = df[[\"job\", \"marital\", \"default\", \"housing\", \"poutcome\", \"y\"]]"
   ]
  },
  {
   "cell_type": "code",
   "execution_count": 4,
   "id": "cd5a214e-f523-44da-9d8d-64f2bd09448a",
   "metadata": {},
   "outputs": [],
   "source": [
    "le = LabelEncoder()\n",
    "label = le.fit_transform(df[\"y\"])\n",
    "df.drop(\"y\", axis=1, inplace=True)\n",
    "df[\"y\"] = label"
   ]
  },
  {
   "cell_type": "code",
   "execution_count": 5,
   "id": "d23f0e97-1cef-4136-9f90-a0ef97ef3dc9",
   "metadata": {
    "tags": []
   },
   "outputs": [
    {
     "data": {
      "text/plain": [
       "array(['married', 'single', 'divorced'], dtype=object)"
      ]
     },
     "execution_count": 5,
     "metadata": {},
     "output_type": "execute_result"
    }
   ],
   "source": [
    "df[\"marital\"].unique()"
   ]
  },
  {
   "cell_type": "markdown",
   "id": "159946b2-6c9d-4de6-8aa4-123a2d519446",
   "metadata": {
    "tags": []
   },
   "source": [
    "## Sorting widgets"
   ]
  },
  {
   "cell_type": "code",
   "execution_count": 6,
   "id": "77abbda0-8053-4eaf-b919-0e8b583320b8",
   "metadata": {},
   "outputs": [],
   "source": [
    "ALL = \"ALL\"\n",
    "\n",
    "\n",
    "def unique_values_ALL(array):\n",
    "    unique = array.unique().tolist()\n",
    "    unique.sort()\n",
    "    unique.insert(0, ALL)  # insert ALL option\n",
    "    return unique"
   ]
  },
  {
   "cell_type": "code",
   "execution_count": 7,
   "id": "7873e956-5962-48b3-9313-59862852a62f",
   "metadata": {
    "tags": []
   },
   "outputs": [],
   "source": [
    "# widgets\n",
    "\n",
    "output = widgets.Output()\n",
    "\n",
    "plot_output = widgets.Output()\n",
    "\n",
    "job_dropdown = widgets.Dropdown(\n",
    "    options=unique_values_ALL(df[\"job\"]), value=\"ALL\", description=\"client job\"\n",
    ")\n",
    "outcome_dropdown = widgets.Dropdown(\n",
    "    options=unique_values_ALL(df[\"poutcome\"]),\n",
    "    value=\"ALL\",\n",
    "    description=\"outcomes\",\n",
    ")\n",
    "\n",
    "# ------------event handlers-----------------------\n",
    "\n",
    "\n",
    "def job_dropdown_handler(change):\n",
    "    shared_filter(change.new, outcome_dropdown.value)\n",
    "\n",
    "\n",
    "def outcome_dropdown_handler(change):\n",
    "    shared_filter(job_dropdown.value, change.new)\n",
    "\n",
    "\n",
    "# -----------filter--------------------------------\n",
    "\n",
    "\n",
    "def shared_filter(job, outcome):\n",
    "    output.clear_output(wait=True)\n",
    "    plot_output.clear_output()\n",
    "\n",
    "    if (job == \"ALL\") and (outcome == \"ALL\"):\n",
    "        filter = df\n",
    "\n",
    "    elif job == \"ALL\":\n",
    "        filter = df[df.poutcome == outcome]\n",
    "\n",
    "    elif outcome == \"ALL\":\n",
    "        filter = df[df.job == job]\n",
    "\n",
    "    else:\n",
    "        filter = df[(df.job == job) & (df.poutcome == outcome)]\n",
    "\n",
    "    with output:\n",
    "        display(filter)\n",
    "\n",
    "    with plot_output:\n",
    "        sns.kdeplot(filter[\"y\"].astype(float), shade=True)\n",
    "        plt.show()\n",
    "\n",
    "\n",
    "# --------------------------------------------------\n",
    "\n",
    "# binding\n",
    "job_dropdown.observe(job_dropdown_handler, names=\"value\")\n",
    "outcome_dropdown.observe(outcome_dropdown_handler, names=\"value\")"
   ]
  },
  {
   "cell_type": "markdown",
   "id": "c7c67d5a-b3bb-4e52-b4ee-e9ab6e3fb619",
   "metadata": {
    "tags": []
   },
   "source": [
    "## Dashboard"
   ]
  },
  {
   "cell_type": "code",
   "execution_count": 8,
   "id": "11bd3972-ecde-43a2-af37-eab15113d349",
   "metadata": {},
   "outputs": [],
   "source": [
    "item_layout = widgets.Layout(margin=\"0 0 25px 0\", width=\"500px\")"
   ]
  },
  {
   "cell_type": "code",
   "execution_count": 9,
   "id": "a8c20b7d-00ba-4119-a230-cda29a5e0b5c",
   "metadata": {},
   "outputs": [
    {
     "data": {
      "application/vnd.jupyter.widget-view+json": {
       "model_id": "4c30b279fe884de8a29a122c039e9465",
       "version_major": 2,
       "version_minor": 0
      },
      "text/plain": [
       "VBox(children=(HBox(children=(Dropdown(description='client job', options=('ALL', 'admin.', 'blue-collar', 'ent…"
      ]
     },
     "metadata": {},
     "output_type": "display_data"
    }
   ],
   "source": [
    "input_widgets = widgets.HBox(\n",
    "    [job_dropdown, outcome_dropdown], layout=item_layout\n",
    ")\n",
    "\n",
    "tab = widgets.Tab([output, plot_output], layout=item_layout)\n",
    "tab.set_title(0, \"Dataset Exploration\")\n",
    "tab.set_title(1, \"KDE Plot\")\n",
    "\n",
    "dashboard = widgets.VBox([input_widgets, tab])\n",
    "display(dashboard)"
   ]
  },
  {
   "cell_type": "markdown",
   "id": "e4e27476-4318-4647-8f72-f90727dfc261",
   "metadata": {},
   "source": [
    "## Model"
   ]
  },
  {
   "cell_type": "code",
   "execution_count": 10,
   "id": "4fcf0cfd-c04b-4003-bf35-52d322880699",
   "metadata": {
    "collapsed": true,
    "jupyter": {
     "outputs_hidden": true
    },
    "tags": []
   },
   "outputs": [
    {
     "data": {
      "text/plain": [
       "{'management': 1,\n",
       " 'technician': 2,\n",
       " 'entrepreneur': 3,\n",
       " 'blue-collar': 4,\n",
       " 'unknown': 5,\n",
       " 'retired': 6,\n",
       " 'admin.': 7,\n",
       " 'services': 8,\n",
       " 'self-employed': 9,\n",
       " 'unemployed': 10,\n",
       " 'housemaid': 11,\n",
       " 'student': 12}"
      ]
     },
     "execution_count": 10,
     "metadata": {},
     "output_type": "execute_result"
    }
   ],
   "source": [
    "d = {}\n",
    "for i, key in enumerate(df[\"job\"].unique()):\n",
    "    d[key] = i + 1\n",
    "d"
   ]
  },
  {
   "cell_type": "code",
   "execution_count": 11,
   "id": "01eb2e46-1017-4a23-ac5d-924bc93223ab",
   "metadata": {},
   "outputs": [],
   "source": [
    "def process(df):\n",
    "    d = {}\n",
    "    for i, key in enumerate(df[\"job\"].unique()):\n",
    "        d[key] = i + 1\n",
    "\n",
    "    numeric_var = {\n",
    "        \"poutcome\": {\"success\": 4, \"failure\": 3, \"other\": 2, \"unknown\": 1},\n",
    "        \"job\": d,\n",
    "    }\n",
    "    df = df.replace(numeric_var)\n",
    "    housing = le.fit_transform(df[\"housing\"])\n",
    "    marital = le.fit_transform(df[\"marital\"])\n",
    "    default = le.fit_transform(df[\"default\"])\n",
    "\n",
    "    df.drop([\"housing\", \"marital\", \"default\"], axis=1, inplace=True)\n",
    "    df = df.assign(housing=housing, marital=marital, default=default)\n",
    "\n",
    "    return df"
   ]
  },
  {
   "cell_type": "code",
   "execution_count": 15,
   "id": "cd60588c-6e09-4eb5-b4dd-784f2d810179",
   "metadata": {},
   "outputs": [],
   "source": [
    "data = process(df)\n",
    "X = data.drop(\"y\", axis=1)\n",
    "y = data[\"y\"]"
   ]
  },
  {
   "cell_type": "code",
   "execution_count": 16,
   "id": "97a82bc1-7bf1-42ca-afad-6617fb39ef88",
   "metadata": {},
   "outputs": [
    {
     "name": "stdout",
     "output_type": "stream",
     "text": [
      "(45211, 5) (45211,)\n"
     ]
    }
   ],
   "source": [
    "print(X.shape, y.shape)"
   ]
  },
  {
   "cell_type": "code",
   "execution_count": 14,
   "id": "a465b975-0f22-45f1-887e-756ecb76f689",
   "metadata": {},
   "outputs": [],
   "source": [
    "# split the data\n",
    "X_train, X_test, y_train, y_test = train_test_split(\n",
    "    X, y, test_size=0.20, random_state=42\n",
    ")"
   ]
  },
  {
   "cell_type": "code",
   "execution_count": 19,
   "id": "6d7b4199-926f-4cda-ad43-348f081267e2",
   "metadata": {},
   "outputs": [
    {
     "data": {
      "text/html": [
       "<div>\n",
       "<style scoped>\n",
       "    .dataframe tbody tr th:only-of-type {\n",
       "        vertical-align: middle;\n",
       "    }\n",
       "\n",
       "    .dataframe tbody tr th {\n",
       "        vertical-align: top;\n",
       "    }\n",
       "\n",
       "    .dataframe thead th {\n",
       "        text-align: right;\n",
       "    }\n",
       "</style>\n",
       "<table border=\"1\" class=\"dataframe\">\n",
       "  <thead>\n",
       "    <tr style=\"text-align: right;\">\n",
       "      <th></th>\n",
       "      <th>job</th>\n",
       "      <th>poutcome</th>\n",
       "      <th>y</th>\n",
       "      <th>housing</th>\n",
       "      <th>marital</th>\n",
       "      <th>default</th>\n",
       "    </tr>\n",
       "  </thead>\n",
       "  <tbody>\n",
       "    <tr>\n",
       "      <th>0</th>\n",
       "      <td>1</td>\n",
       "      <td>1</td>\n",
       "      <td>0</td>\n",
       "      <td>1</td>\n",
       "      <td>1</td>\n",
       "      <td>0</td>\n",
       "    </tr>\n",
       "    <tr>\n",
       "      <th>1</th>\n",
       "      <td>2</td>\n",
       "      <td>1</td>\n",
       "      <td>0</td>\n",
       "      <td>1</td>\n",
       "      <td>2</td>\n",
       "      <td>0</td>\n",
       "    </tr>\n",
       "    <tr>\n",
       "      <th>2</th>\n",
       "      <td>3</td>\n",
       "      <td>1</td>\n",
       "      <td>0</td>\n",
       "      <td>1</td>\n",
       "      <td>1</td>\n",
       "      <td>0</td>\n",
       "    </tr>\n",
       "    <tr>\n",
       "      <th>3</th>\n",
       "      <td>4</td>\n",
       "      <td>1</td>\n",
       "      <td>0</td>\n",
       "      <td>1</td>\n",
       "      <td>1</td>\n",
       "      <td>0</td>\n",
       "    </tr>\n",
       "    <tr>\n",
       "      <th>4</th>\n",
       "      <td>5</td>\n",
       "      <td>1</td>\n",
       "      <td>0</td>\n",
       "      <td>0</td>\n",
       "      <td>2</td>\n",
       "      <td>0</td>\n",
       "    </tr>\n",
       "  </tbody>\n",
       "</table>\n",
       "</div>"
      ],
      "text/plain": [
       "   job  poutcome  y  housing  marital  default\n",
       "0    1         1  0        1        1        0\n",
       "1    2         1  0        1        2        0\n",
       "2    3         1  0        1        1        0\n",
       "3    4         1  0        1        1        0\n",
       "4    5         1  0        0        2        0"
      ]
     },
     "execution_count": 19,
     "metadata": {},
     "output_type": "execute_result"
    }
   ],
   "source": [
    "data.head()"
   ]
  },
  {
   "cell_type": "code",
   "execution_count": 20,
   "id": "255dccb2-4f47-4bdb-80a7-43d46535d6e1",
   "metadata": {},
   "outputs": [
    {
     "data": {
      "text/plain": [
       "array([[<AxesSubplot:title={'center':'1'}>,\n",
       "        <AxesSubplot:title={'center':'2'}>,\n",
       "        <AxesSubplot:title={'center':'3'}>],\n",
       "       [<AxesSubplot:title={'center':'4'}>,\n",
       "        <AxesSubplot:title={'center':'5'}>,\n",
       "        <AxesSubplot:title={'center':'6'}>],\n",
       "       [<AxesSubplot:title={'center':'7'}>,\n",
       "        <AxesSubplot:title={'center':'8'}>,\n",
       "        <AxesSubplot:title={'center':'9'}>],\n",
       "       [<AxesSubplot:title={'center':'10'}>,\n",
       "        <AxesSubplot:title={'center':'11'}>,\n",
       "        <AxesSubplot:title={'center':'12'}>]], dtype=object)"
      ]
     },
     "execution_count": 20,
     "metadata": {},
     "output_type": "execute_result"
    },
    {
     "data": {
      "image/png": "[encoded data removed]",
      "text/plain": [
       "<Figure size 432x288 with 12 Axes>"
      ]
     },
     "metadata": {
      "needs_background": "light"
     },
     "output_type": "display_data"
    }
   ],
   "source": [
    "data.y.hist(by=data.job, sharey=True, sharex=True)"
   ]
  },
  {
   "cell_type": "code",
   "execution_count": 15,
   "id": "5db1a470-ea51-492c-bf6e-20aff417589d",
   "metadata": {
    "tags": []
   },
   "outputs": [
    {
     "name": "stdout",
     "output_type": "stream",
     "text": [
      "0.8793541966161672\n"
     ]
    }
   ],
   "source": [
    "svc = SVC(kernel=\"linear\")\n",
    "svc.fit(X_train, y_train)\n",
    "y_pred = svc.predict(X_test)\n",
    "print(metrics.accuracy_score(y_test, y_pred))"
   ]
  },
  {
   "cell_type": "code",
   "execution_count": 16,
   "id": "b73310fc-cd24-46e2-84b4-3ad3fc4f4fe2",
   "metadata": {},
   "outputs": [
    {
     "data": {
      "text/plain": [
       "['linear_svm.joblib']"
      ]
     },
     "execution_count": 16,
     "metadata": {},
     "output_type": "execute_result"
    }
   ],
   "source": [
    "dump(svc, \"linear_svm.joblib\")"
   ]
  },
  {
   "cell_type": "markdown",
   "id": "dc8d092a-f215-4846-a2c5-e8e8b651680d",
   "metadata": {
    "tags": []
   },
   "source": [
    "## Plotter function"
   ]
  },
  {
   "cell_type": "code",
   "execution_count": 17,
   "id": "90cbc849-cb68-4efd-bb5c-94cf1dd55eb5",
   "metadata": {},
   "outputs": [],
   "source": [
    "def plotly_hist(df, jobtype, poutcome, prediction=1):\n",
    "\n",
    "    plot1 = df[df.job][\"y\"].astype(int)\n",
    "    plot2 = df[(df.poutcome == poutcome) & (df.job == jobtype)][\"y\"].astype(\n",
    "        int\n",
    "    )\n",
    "\n",
    "    fig = go.Figure()\n",
    "\n",
    "    fig.add_trace(\n",
    "        go.Histogram(\n",
    "            x=plot_series1,\n",
    "            name=\"All Fields\",\n",
    "            histnorm=\"percent\",\n",
    "            xbins=dict(size=1000),\n",
    "        )\n",
    "    )\n",
    "    fig.add_trace(\n",
    "        go.Histogram(\n",
    "            x=plot_series2,\n",
    "            name=majorfield,\n",
    "            histnorm=\"percent\",\n",
    "            xbins=dict(size=1000),\n",
    "        )\n",
    "    )\n",
    "    fig.add_vline(\n",
    "        x=prediction,\n",
    "        line_dash=\"dash\",\n",
    "        annotation_text=f\"Predicted: ${round(prediction, 2):,}\",\n",
    "    )\n",
    "\n",
    "    fig.update_traces(opacity=0.55)\n",
    "    return fig"
   ]
  },
  {
   "cell_type": "markdown",
   "id": "276e94b9-26d0-4bc8-a894-8c1010ddb81d",
   "metadata": {
    "tags": []
   },
   "source": [
    "## user input widgets"
   ]
  },
  {
   "cell_type": "code",
   "execution_count": 18,
   "id": "7b67c554-f072-4fa0-b57d-fd5f90d2ac54",
   "metadata": {},
   "outputs": [],
   "source": [
    "jobs = sorted(list(df[\"job\"].unique()))\n",
    "marital = sorted(list(df[\"marital\"].unique()))\n",
    "default = sorted(list(df[\"default\"].unique()))\n",
    "housing = sorted(list(df[\"housing\"].unique()))\n",
    "poutcome = sorted(list(df[\"poutcome\"].unique()))"
   ]
  },
  {
   "cell_type": "code",
   "execution_count": 19,
   "id": "b767f30c-7c27-4107-8b13-73605740ca70",
   "metadata": {},
   "outputs": [],
   "source": [
    "job_widget = widgets.Dropdown(\n",
    "    options=jobs,\n",
    "    value=\"admin.\",\n",
    "    description=\"job:\",\n",
    "    style={\"description_width\": \"initial\"},\n",
    "    layout=widgets.Layout(width=\"80%\"),\n",
    ")\n",
    "marital_widget = widgets.Dropdown(\n",
    "    options=marital,\n",
    "    value=\"married\",\n",
    "    description=\"marital status:\",\n",
    "    style={\"description_width\": \"initial\"},\n",
    "    layout=widgets.Layout(width=\"80%\"),\n",
    ")\n",
    "default_widget = widgets.Dropdown(\n",
    "    options=default,\n",
    "    value=\"no\",\n",
    "    description=\"defaults:\",\n",
    "    style={\"description_width\": \"initial\"},\n",
    "    layout=widgets.Layout(width=\"80%\"),\n",
    ")\n",
    "housing_widget = widgets.Dropdown(\n",
    "    options=housing,\n",
    "    value=\"yes\",\n",
    "    description=\"housing loan:\",\n",
    "    style={\"description_width\": \"initial\"},\n",
    "    layout=widgets.Layout(width=\"80%\"),\n",
    ")\n",
    "poutcome_widget = widgets.Dropdown(\n",
    "    options=poutcome,\n",
    "    value=\"unknown\",\n",
    "    description=\"marital status:\",\n",
    "    style={\"description_width\": \"initial\"},\n",
    "    layout=widgets.Layout(width=\"80%\"),\n",
    ")"
   ]
  },
  {
   "cell_type": "markdown",
   "id": "207bf25f-9bad-4b62-b8a5-964c5b9c1e82",
   "metadata": {},
   "source": [
    "## predictions"
   ]
  },
  {
   "cell_type": "code",
   "execution_count": 20,
   "id": "2c32514d-09ec-420e-b9d9-9b4750ca464f",
   "metadata": {},
   "outputs": [],
   "source": [
    "def results(job, marital, default, housing, poutcome):\n",
    "    df_new = pd.DataFrame(\n",
    "        [[job, marital, default, housing, poutcome]],\n",
    "        columns=[\"job\", \"marital\", \"default\", \"housing\", \"poutcome\"],\n",
    "    )\n",
    "    df_new_train = pd.get_dummies(\n",
    "        df_new, columns=[\"job\", \"marital\", \"default\", \"housing\", \"poutcome\"]\n",
    "    )\n",
    "    [[prediction]] = svc.predict(df_new_train)\n",
    "    pred = prediction if prediction > 0 else np.nan\n",
    "    return pred"
   ]
  },
  {
   "cell_type": "code",
   "execution_count": null,
   "id": "58347430-e0cb-4f54-a36a-c542d5cfcd9e",
   "metadata": {},
   "outputs": [],
   "source": [
    "out = widgets.interactive_output(\n",
    "    results,\n",
    "    {\n",
    "        \"job\": job_widget,\n",
    "        \"marital\": marital_widget,\n",
    "        \"default\": default_widget,\n",
    "        \"housing\": housing_widget,\n",
    "        \"poutcome\": poutcome_widget,\n",
    "    },\n",
    ")"
   ]
  },
  {
   "cell_type": "code",
   "execution_count": null,
   "id": "28a51cf4-b60c-4edd-ad1d-e23d4aa559d1",
   "metadata": {},
   "outputs": [],
   "source": []
  },
  {
   "cell_type": "code",
   "execution_count": null,
   "id": "26098987-834c-42f6-ba1e-a039b8d93077",
   "metadata": {},
   "outputs": [],
   "source": [
    "df.poutcome"
   ]
  }
 ],
 "metadata": {
  "kernelspec": {
   "display_name": "datascience",
   "language": "python",
   "name": "datascience"
  },
  "language_info": {
   "codemirror_mode": {
    "name": "ipython",
    "version": 3
   },
   "file_extension": ".py",
   "mimetype": "text/x-python",
   "name": "python",
   "nbconvert_exporter": "python",
   "pygments_lexer": "ipython3",
   "version": "3.10.8"
  }
 },
 "nbformat": 4,
 "nbformat_minor": 5
}
